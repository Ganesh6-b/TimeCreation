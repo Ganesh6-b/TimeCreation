{
 "cells": [
  {
   "cell_type": "code",
   "execution_count": 1,
   "metadata": {},
   "outputs": [],
   "source": [
    "#collecting four numbers and output the possibilities of railway time"
   ]
  },
  {
   "cell_type": "code",
   "execution_count": 74,
   "metadata": {},
   "outputs": [
    {
     "name": "stdout",
     "output_type": "stream",
     "text": [
      "Enter your four numbers:9 0 2 3\n"
     ]
    }
   ],
   "source": [
    "a,b,c,d = map(int,input(\"Enter your four numbers:\").split())"
   ]
  },
  {
   "cell_type": "code",
   "execution_count": 75,
   "metadata": {},
   "outputs": [],
   "source": [
    "lst = [a,b,c,d]\n",
    "n = len(lst)\n",
    "arr = []\n",
    "arr2 = []"
   ]
  },
  {
   "cell_type": "code",
   "execution_count": 76,
   "metadata": {},
   "outputs": [],
   "source": [
    "for i in lst:\n",
    "    for j in lst:\n",
    "        if i*10+j<=23:\n",
    "            arr.append(i*10+j)\n",
    "        elif i*10+j<=59:\n",
    "            arr2.append(i*10+j)"
   ]
  },
  {
   "cell_type": "code",
   "execution_count": 77,
   "metadata": {},
   "outputs": [
    {
     "data": {
      "text/plain": [
       "[9, 0, 2, 3, 20, 22, 23]"
      ]
     },
     "execution_count": 77,
     "metadata": {},
     "output_type": "execute_result"
    }
   ],
   "source": [
    "arr"
   ]
  },
  {
   "cell_type": "code",
   "execution_count": 78,
   "metadata": {},
   "outputs": [
    {
     "data": {
      "text/plain": [
       "[29, 39, 30, 32, 33]"
      ]
     },
     "execution_count": 78,
     "metadata": {},
     "output_type": "execute_result"
    }
   ],
   "source": [
    "arr2"
   ]
  },
  {
   "cell_type": "code",
   "execution_count": 79,
   "metadata": {},
   "outputs": [],
   "source": [
    "perfecttime = []\n",
    "for k in range(len(arr)):\n",
    "    for l in range(len(arr2)):\n",
    "        perfecttime.append(\"{}:{}\".format(arr[k],arr2[l]))\n",
    "        "
   ]
  },
  {
   "cell_type": "code",
   "execution_count": 80,
   "metadata": {},
   "outputs": [
    {
     "name": "stdout",
     "output_type": "stream",
     "text": [
      "['9:29', '9:39', '9:30', '9:32', '9:33', '0:29', '0:39', '0:30', '0:32', '0:33', '2:29', '2:39', '2:30', '2:32', '2:33', '3:29', '3:39', '3:30', '3:32', '3:33', '20:29', '20:39', '20:30', '20:32', '20:33', '22:29', '22:39', '22:30', '22:32', '22:33', '23:29', '23:39', '23:30', '23:32', '23:33']\n"
     ]
    }
   ],
   "source": [
    "try:\n",
    "    perfecttime[0]\n",
    "    print(perfecttime)\n",
    "except:\n",
    "    print(\"Your entered time is invalid in any format\")"
   ]
  },
  {
   "cell_type": "code",
   "execution_count": 81,
   "metadata": {},
   "outputs": [],
   "source": [
    "import matplotlib.pyplot as plt"
   ]
  },
  {
   "cell_type": "code",
   "execution_count": 90,
   "metadata": {},
   "outputs": [
    {
     "data": {
      "text/plain": [
       "[<matplotlib.lines.Line2D at 0x22bd3810588>]"
      ]
     },
     "execution_count": 90,
     "metadata": {},
     "output_type": "execute_result"
    },
    {
     "data": {
      "image/png": "[encoded data removed]",
      "text/plain": [
       "<Figure size 216x864 with 1 Axes>"
      ]
     },
     "metadata": {
      "needs_background": "light"
     },
     "output_type": "display_data"
    }
   ],
   "source": [
    "fig = plt.figure(figsize = (3,12))\n",
    "ax = fig.add_axes([0,0,1,1])\n",
    "ax.plot(perfecttime, marker = \"o\")"
   ]
  },
  {
   "cell_type": "code",
   "execution_count": null,
   "metadata": {},
   "outputs": [],
   "source": []
  }
 ],
 "metadata": {
  "kernelspec": {
   "display_name": "Python 3",
   "language": "python",
   "name": "python3"
  },
  "language_info": {
   "codemirror_mode": {
    "name": "ipython",
    "version": 3
   },
   "file_extension": ".py",
   "mimetype": "text/x-python",
   "name": "python",
   "nbconvert_exporter": "python",
   "pygments_lexer": "ipython3",
   "version": "3.7.4"
  }
 },
 "nbformat": 4,
 "nbformat_minor": 2
}
